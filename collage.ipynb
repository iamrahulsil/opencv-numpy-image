{
 "cells": [
  {
   "cell_type": "code",
   "execution_count": 1,
   "id": "forced-greece",
   "metadata": {},
   "outputs": [],
   "source": [
    "import numpy as np\n",
    "import cv2\n",
    "\n",
    "#Loading the images\n",
    "tom = cv2.imread(\"tom.png\")\n",
    "jerry = cv2.imread(\"jerry.jpg\")\n",
    "\n",
    "cv2.imshow(\"photo\", tom)\n",
    "cv2.waitKey()\n",
    "cv2.destroyAllWindows()\n",
    "\n",
    "cv2.imshow(\"photo\", jerry)\n",
    "cv2.waitKey()\n",
    "cv2.destroyAllWindows()\n",
    "\n",
    "#Resizing the images to the correct dimensions for collage\n",
    "tom_final = cv2.resize(tom,(512,512))\n",
    "jerry_final = cv2.resize(jerry,(512,512))\n",
    "\n",
    "#Performing the collage using numpy.\n",
    "collage = np.hstack([jerry_final, tom_final])\n",
    "cv2.imshow(\"photo\", collage)\n",
    "cv2.waitKey()\n",
    "cv2.destroyAllWindows()"
   ]
  },
  {
   "cell_type": "code",
   "execution_count": null,
   "id": "devoted-review",
   "metadata": {},
   "outputs": [],
   "source": []
  }
 ],
 "metadata": {
  "kernelspec": {
   "display_name": "Python 3",
   "language": "python",
   "name": "python3"
  },
  "language_info": {
   "codemirror_mode": {
    "name": "ipython",
    "version": 3
   },
   "file_extension": ".py",
   "mimetype": "text/x-python",
   "name": "python",
   "nbconvert_exporter": "python",
   "pygments_lexer": "ipython3",
   "version": "3.8.0"
  }
 },
 "nbformat": 4,
 "nbformat_minor": 5
}
