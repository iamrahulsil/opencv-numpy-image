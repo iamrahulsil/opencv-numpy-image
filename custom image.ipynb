{
 "cells": [
  {
   "cell_type": "code",
   "execution_count": 2,
   "id": "tribal-output",
   "metadata": {},
   "outputs": [],
   "source": [
    "import numpy as np\n",
    "import cv2"
   ]
  },
  {
   "cell_type": "code",
   "execution_count": 4,
   "id": "broadband-range",
   "metadata": {},
   "outputs": [],
   "source": [
    "img_1 = np.zeros((550,1024,3),dtype=np.uint8)\n",
    "img_1.fill(255)\n",
    "img_1 = cv2.circle(img_1,(256,256), 180, (0,255,255), -1)\n",
    "img_1 = cv2.circle(img_1,(175,175), 15, (0,0,0), -1)\n",
    "img_1 = cv2.circle(img_1,(325,175), 15, (0,0,0), -1)\n",
    "img_1= cv2.ellipse(img_1,(250,300),(50,50),0,0,180,0,-1)\n",
    "font = cv2.FONT_HERSHEY_SIMPLEX\n",
    "img_1 = cv2.putText(img_1,'Keep Smiling',(10,500), font, 4,(0,0,0),2,cv2.LINE_AA)\n",
    "cv2.imshow(\"photo\", img_1)\n",
    "cv2.waitKey()\n",
    "cv2.destroyAllWindows()"
   ]
  },
  {
   "cell_type": "code",
   "execution_count": null,
   "id": "comparative-morrison",
   "metadata": {},
   "outputs": [],
   "source": []
  }
 ],
 "metadata": {
  "kernelspec": {
   "display_name": "Python 3",
   "language": "python",
   "name": "python3"
  },
  "language_info": {
   "codemirror_mode": {
    "name": "ipython",
    "version": 3
   },
   "file_extension": ".py",
   "mimetype": "text/x-python",
   "name": "python",
   "nbconvert_exporter": "python",
   "pygments_lexer": "ipython3",
   "version": "3.8.0"
  }
 },
 "nbformat": 4,
 "nbformat_minor": 5
}
