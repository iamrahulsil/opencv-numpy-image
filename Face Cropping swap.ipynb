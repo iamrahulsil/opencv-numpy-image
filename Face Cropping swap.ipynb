{
 "cells": [
  {
   "cell_type": "code",
   "execution_count": 3,
   "id": "hundred-authorization",
   "metadata": {},
   "outputs": [],
   "source": [
    "import cv2 \n",
    "\n",
    "#Loading the image\n",
    "tom_jerry = cv2.imread(\"tomJerry.jpg\")\n",
    "\n",
    "#Viewing the image\n",
    "cv2.imshow(\"photo\", tom_jerry)\n",
    "cv2.waitKey()\n",
    "cv2.destroyAllWindows()\n",
    "\n",
    "#Cropping Toms face\n",
    "tom = tom_jerry[0:130, 55:150]\n",
    "\n",
    "#Cropping Jerry's Face\n",
    "jerry = tom_jerry[0:130, 130:225]\n",
    "\n",
    "#Pasting Tom's face on jerry's face\n",
    "tom_jerry[0:130, 130:225] = tom\n",
    "cv2.imshow(\"photo\", tom_jerry)\n",
    "cv2.waitKey()\n",
    "cv2.destroyAllWindows()\n",
    "\n",
    "tom_jerry[0:130, 55:150] = jerry\n",
    "cv2.imshow(\"photo\", tom_jerry)\n",
    "cv2.waitKey()\n",
    "cv2.destroyAllWindows()"
   ]
  },
  {
   "cell_type": "code",
   "execution_count": null,
   "id": "toxic-gates",
   "metadata": {},
   "outputs": [],
   "source": []
  }
 ],
 "metadata": {
  "kernelspec": {
   "display_name": "Python 3",
   "language": "python",
   "name": "python3"
  },
  "language_info": {
   "codemirror_mode": {
    "name": "ipython",
    "version": 3
   },
   "file_extension": ".py",
   "mimetype": "text/x-python",
   "name": "python",
   "nbconvert_exporter": "python",
   "pygments_lexer": "ipython3",
   "version": "3.8.0"
  }
 },
 "nbformat": 4,
 "nbformat_minor": 5
}
